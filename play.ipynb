{
 "cells": [
  {
   "cell_type": "code",
   "execution_count": 1,
   "metadata": {},
   "outputs": [],
   "source": [
    "import yaml\n",
    "import fynesse as best_package"
   ]
  },
  {
   "cell_type": "code",
   "execution_count": 4,
   "metadata": {},
   "outputs": [
    {
     "name": "stdout",
     "output_type": "stream",
     "text": [
      "you now have access to database household_prices with tables postcode_data, pp_data, pp_data_playground, pp_data_sample, pp_data_sample_playground\n"
     ]
    }
   ],
   "source": [
    "url_cam_given_account = \"database-mm2503-v2.cgrre17yxw11.eu-west-2.rds.amazonaws.com\"\n",
    "database_details = {\"url\": url_cam_given_account, \n",
    "                    \"port\": 3306}\n",
    "with open(\"credentials.yaml\") as file:\n",
    "  credentials = yaml.safe_load(file)\n",
    "username = credentials[\"username\"]\n",
    "password = credentials[\"password\"]\n",
    "url = database_details[\"url\"]\n",
    "\n",
    "conn = best_package.access_db.create_connection(user=credentials[\"username\"], \n",
    "                         password=credentials[\"password\"], \n",
    "                         host=database_details[\"url\"],\n",
    "                         database=\"household_prices\")\n",
    "db_access = best_package.access_db.DB_access(conn)"
   ]
  },
  {
   "cell_type": "code",
   "execution_count": 5,
   "metadata": {},
   "outputs": [],
   "source": [
    "# TODO: RUN DURING NIGHT\n",
    "best_package.access_external.create_index_using_hash_if_not_exists(conn, 'pp_data', 'postcode')\n",
    "conn.commit()"
   ]
  },
  {
   "cell_type": "code",
   "execution_count": null,
   "metadata": {},
   "outputs": [],
   "source": [
    "best_package.access_external.create_index_using_hash_if_not_exists(conn, 'pp_data', 'date_of_transfer')\n",
    "conn.commit()"
   ]
  }
 ],
 "metadata": {
  "kernelspec": {
   "display_name": "Python 3.8.10 64-bit",
   "language": "python",
   "name": "python3"
  },
  "language_info": {
   "codemirror_mode": {
    "name": "ipython",
    "version": 3
   },
   "file_extension": ".py",
   "mimetype": "text/x-python",
   "name": "python",
   "nbconvert_exporter": "python",
   "pygments_lexer": "ipython3",
   "version": "3.8.10"
  },
  "orig_nbformat": 4,
  "vscode": {
   "interpreter": {
    "hash": "916dbcbb3f70747c44a77c7bcd40155683ae19c65e1c03b4aa3499c5328201f1"
   }
  }
 },
 "nbformat": 4,
 "nbformat_minor": 2
}
