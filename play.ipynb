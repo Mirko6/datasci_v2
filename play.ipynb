{
 "cells": [
  {
   "cell_type": "code",
   "execution_count": 1,
   "metadata": {},
   "outputs": [
    {
     "name": "stderr",
     "output_type": "stream",
     "text": [
      "/usr/lib/python3/dist-packages/requests/__init__.py:89: RequestsDependencyWarning: urllib3 (1.26.12) or chardet (3.0.4) doesn't match a supported version!\n",
      "  warnings.warn(\"urllib3 ({}) or chardet ({}) doesn't match a supported \"\n"
     ]
    }
   ],
   "source": [
    "import yaml\n",
    "import fynesse as best_package"
   ]
  },
  {
   "cell_type": "code",
   "execution_count": 3,
   "metadata": {},
   "outputs": [
    {
     "name": "stdout",
     "output_type": "stream",
     "text": [
      "you now have access to database: property_prices with tables: \n"
     ]
    }
   ],
   "source": [
    "url_cam_given_account = \"database-mm2503-v2.cgrre17yxw11.eu-west-2.rds.amazonaws.com\"\n",
    "database_details = {\"url\": url_cam_given_account, \n",
    "                    \"port\": 3306}\n",
    "with open(\"credentials.yaml\") as file:\n",
    "  credentials = yaml.safe_load(file)\n",
    "username = credentials[\"username\"]\n",
    "password = credentials[\"password\"]\n",
    "url = database_details[\"url\"]\n",
    "\n",
    "conn = best_package.access_db.create_connection(user=credentials[\"username\"], \n",
    "                         password=credentials[\"password\"], \n",
    "                         host=database_details[\"url\"],\n",
    "                         database=\"property_prices\")\n",
    "DB = best_package.access_db.DB(conn)"
   ]
  },
  {
   "cell_type": "code",
   "execution_count": 5,
   "metadata": {},
   "outputs": [
    {
     "name": "stdout",
     "output_type": "stream",
     "text": [
      "licence of the postcode data:\n",
      "Open Postcode Geo\n",
      "=================\n",
      "\n",
      "If you find this file useful, please link back to:\n",
      "\n",
      "https://www.getthedata.com/open-postcode-geo\n",
      "\n",
      "Licence\n",
      "-------\n",
      "\n",
      "Open Postcode Geo is derived from the ONS Postcode Directory.\n",
      "\n",
      "From the ONS:\n",
      "\n",
      "http://www.ons.gov.uk/methodology/geography/licences\n",
      "\n",
      "Our postcode products (derived from Code-Point(R) Open) are subject to the Open Government Licence and the Ordnance Survey OpenData Licence.\n",
      "\n",
      "If you also use the Northern Ireland data (postcodes starting with \"BT\"), you need a separate licence for commercial use direct from Land and Property Services. We only issue a Northern Ireland End User Licence (for internal business use only) with the data. To download a copy, go to the \"Download\" section of this page. Use of the Northern Ireland data contained within the ONS postcode products constitutes acceptance of the Northern Ireland licensing terms and conditions.\n",
      "\n",
      "Copyright and reproduction\n",
      "--------------------------\n",
      "\n",
      "You may re-use this information (not including logos or Northern Ireland data) free of charge in any format or medium, under the terms of the relevant data owners' licence. In addition, the following attribution statements must be acknowledged or displayed whenever the owners data is used:\n",
      "\n",
      "Contains OS data (c) Crown copyright and database right [year]\n",
      "Contains Royal Mail data (c) Royal Mail copyright and database right [year]\n",
      "Contains National Statistics data (c) Crown copyright and database right [year]\n"
     ]
    }
   ],
   "source": [
    "\n",
    "best_package.access_external.drop_and_create_table_for_postcode_data(conn)\n",
    "best_package.access_external.fetch_and_upload_postcode_data(conn)\n",
    "best_package.access_external.create_index_using_hash_if_not_exists(conn, \"postcode_data\", \"postcode\")\n",
    "conn.commit()"
   ]
  },
  {
   "cell_type": "code",
   "execution_count": 4,
   "metadata": {},
   "outputs": [
    {
     "name": "stdout",
     "output_type": "stream",
     "text": [
      "fetching data from year: 1995, part: 1\n",
      "uploading the data\n",
      "fetching data from year: 1995, part: 2\n",
      "uploading the data\n",
      "fetching data from year: 1996, part: 1\n",
      "uploading the data\n",
      "fetching data from year: 1996, part: 2\n",
      "uploading the data\n",
      "fetching data from year: 1997, part: 1\n",
      "uploading the data\n",
      "fetching data from year: 1997, part: 2\n",
      "uploading the data\n",
      "fetching data from year: 1998, part: 1\n",
      "uploading the data\n",
      "fetching data from year: 1998, part: 2\n",
      "uploading the data\n",
      "fetching data from year: 1999, part: 1\n",
      "uploading the data\n",
      "fetching data from year: 1999, part: 2\n",
      "uploading the data\n",
      "fetching data from year: 2000, part: 1\n",
      "uploading the data\n",
      "fetching data from year: 2000, part: 2\n",
      "uploading the data\n",
      "fetching data from year: 2001, part: 1\n",
      "uploading the data\n",
      "fetching data from year: 2001, part: 2\n",
      "uploading the data\n",
      "fetching data from year: 2002, part: 1\n",
      "uploading the data\n",
      "fetching data from year: 2002, part: 2\n",
      "uploading the data\n",
      "fetching data from year: 2003, part: 1\n",
      "uploading the data\n",
      "fetching data from year: 2003, part: 2\n",
      "uploading the data\n",
      "fetching data from year: 2004, part: 1\n",
      "uploading the data\n",
      "fetching data from year: 2004, part: 2\n",
      "uploading the data\n",
      "fetching data from year: 2005, part: 1\n",
      "uploading the data\n",
      "fetching data from year: 2005, part: 2\n",
      "uploading the data\n",
      "fetching data from year: 2006, part: 1\n",
      "uploading the data\n",
      "fetching data from year: 2006, part: 2\n",
      "uploading the data\n",
      "fetching data from year: 2007, part: 1\n",
      "uploading the data\n",
      "fetching data from year: 2007, part: 2\n",
      "uploading the data\n",
      "fetching data from year: 2008, part: 1\n",
      "uploading the data\n",
      "fetching data from year: 2008, part: 2\n",
      "uploading the data\n",
      "fetching data from year: 2009, part: 1\n",
      "uploading the data\n",
      "fetching data from year: 2009, part: 2\n",
      "uploading the data\n",
      "fetching data from year: 2010, part: 1\n",
      "uploading the data\n",
      "fetching data from year: 2010, part: 2\n",
      "uploading the data\n",
      "fetching data from year: 2011, part: 1\n",
      "uploading the data\n",
      "fetching data from year: 2011, part: 2\n",
      "uploading the data\n",
      "fetching data from year: 2012, part: 1\n",
      "uploading the data\n",
      "fetching data from year: 2012, part: 2\n",
      "uploading the data\n",
      "fetching data from year: 2013, part: 1\n",
      "uploading the data\n",
      "fetching data from year: 2013, part: 2\n",
      "uploading the data\n",
      "fetching data from year: 2014, part: 1\n",
      "uploading the data\n",
      "fetching data from year: 2014, part: 2\n",
      "uploading the data\n",
      "fetching data from year: 2015, part: 1\n",
      "uploading the data\n",
      "fetching data from year: 2015, part: 2\n",
      "uploading the data\n",
      "fetching data from year: 2016, part: 1\n",
      "uploading the data\n",
      "fetching data from year: 2016, part: 2\n",
      "uploading the data\n",
      "fetching data from year: 2017, part: 1\n",
      "uploading the data\n",
      "fetching data from year: 2017, part: 2\n",
      "uploading the data\n",
      "fetching data from year: 2018, part: 1\n",
      "uploading the data\n",
      "fetching data from year: 2018, part: 2\n",
      "uploading the data\n",
      "fetching data from year: 2019, part: 1\n",
      "uploading the data\n",
      "fetching data from year: 2019, part: 2\n",
      "uploading the data\n",
      "fetching data from year: 2020, part: 1\n",
      "uploading the data\n",
      "fetching data from year: 2020, part: 2\n",
      "uploading the data\n",
      "fetching data from year: 2021, part: 1\n",
      "uploading the data\n",
      "fetching data from year: 2021, part: 2\n",
      "uploading the data\n",
      "num_fetched_rows was 27185045, num_uploaded_rows was 27185045\n",
      "fetching data from year: 2022\n",
      "uploading data\n",
      "num_fetched_rows was 456603, num_uploaded_rows was 456603\n"
     ]
    }
   ],
   "source": [
    "best_package.access_external.create_table_and_upload_everything_for_priced_paid_data(conn)\n",
    "conn.commit()"
   ]
  },
  {
   "cell_type": "code",
   "execution_count": null,
   "metadata": {},
   "outputs": [],
   "source": [
    "# TODO: RUN DURING NIGHT\n",
    "best_package.access_external.create_index_using_hash_if_not_exists(conn, 'pp_data', 'postcode')\n",
    "conn.commit()"
   ]
  },
  {
   "cell_type": "code",
   "execution_count": null,
   "metadata": {},
   "outputs": [],
   "source": [
    "best_package.access_external.create_index_using_hash_if_not_exists(conn, 'pp_data', 'date_of_transfer')\n",
    "conn.commit()"
   ]
  }
 ],
 "metadata": {
  "kernelspec": {
   "display_name": "Python 3.8.10 64-bit",
   "language": "python",
   "name": "python3"
  },
  "language_info": {
   "codemirror_mode": {
    "name": "ipython",
    "version": 3
   },
   "file_extension": ".py",
   "mimetype": "text/x-python",
   "name": "python",
   "nbconvert_exporter": "python",
   "pygments_lexer": "ipython3",
   "version": "3.8.10"
  },
  "orig_nbformat": 4,
  "vscode": {
   "interpreter": {
    "hash": "916dbcbb3f70747c44a77c7bcd40155683ae19c65e1c03b4aa3499c5328201f1"
   }
  }
 },
 "nbformat": 4,
 "nbformat_minor": 2
}
